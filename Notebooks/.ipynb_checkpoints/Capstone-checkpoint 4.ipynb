{
 "cells": [
  {
   "cell_type": "markdown",
   "id": "c9458e4f-a511-4073-bd43-e249fe988c7d",
   "metadata": {},
   "source": [
    "# Expedia Hotel Recommendations"
   ]
  },
  {
   "cell_type": "markdown",
   "id": "df356964-0a3b-45ea-b756-1e7cdcd2f914",
   "metadata": {},
   "source": [
    "Written by: Lais Amorim Menezes\n",
    "\n",
    "Contact Email: laisamorimmenezes@gmail.com\n",
    "\n",
    "Date Filled: Oct 16, 2023"
   ]
  },
  {
   "cell_type": "markdown",
   "id": "85773353-e75e-4d1b-95b0-c88aeb822043",
   "metadata": {},
   "source": [
    "### Table of Contents:\n",
    "\n",
    "1. Introduction:\n",
    "2. Key Questions:\n",
    "3. Assumptions & Limitations\n",
    "4. Methods\n",
    "5. Finding & Analysis\n",
    "\n",
    "* [Analysis for column `Date_time`](#1)\n",
    "* [Analysis for column `Site_name`](#2)\n",
    "* [Analysis for column `Posa_continents`](#3)\n",
    "* [Analysis for column `User_location_country`](#4)\n",
    "* [Analysis for column `User_location_region` and `User_location_city`](#5)\n",
    "* [Analysis for column `Orig_destination_distance`](#6)\n",
    "* [Analysis for column `User_id`](#7)\n",
    "* [Analysis for column `Is_mobile`](#8)\n",
    "* [Analysis for column `Is_package`](#9)\n",
    "* [Analysis for column `Channel`](#10)\n",
    "* [Analysis for column `Srch_ci`, `Srch_co` and `number_of_days`](#11)\n",
    "* [Analysis for column `Srch_adults_cnt`, `Srch_children_cnt` and `Srch_rm_cnt`](#12)\n",
    "* [Analysis for column `Srch_destination_id` and `Srch_destination_type_id`](#13)\n",
    "* [Analysis for column `Is_booking`](#14)\n",
    "* [Analysis for column `Cnt`](#15)\n",
    "* [Analysis for column `Hotel_continent`, `Hotel_country` and `Hotel_market`](#16)\n",
    "* [Analysis for column `Hotel_cluster`](#17)\n",
    "* [Some graphics](#18)\n"
   ]
  },
  {
   "cell_type": "markdown",
   "id": "de5c672c-c8c5-4b06-969d-ab39ace6a780",
   "metadata": {},
   "source": [
    "## Introduction:\n",
    "\n",
    "This business report aims to analyze the customer interactions on Expedia's website. The dataset comprises a selection of records from Expedia's vast collection. Due to the dataset's substantial size, a sample has been taken to facilitate computational efficiency.\n",
    "\n",
    "The primary objective of this analysis is to predict the hotel cluster that a user is likely to book. Expedia provides a hotel cluster, an in-house algorithm grouping similar hotels based on various factors such as historical pricing, customer ratings, and proximity to city centers. These clusters are invaluable for predicting user preferences when booking hotels. It is important to note that the dataset contains 100 distinct hotel clusters. This predictive goal requires the anticipation of a user's booking outcome (hotel cluster) based on their search and related event attributes. The training data covers the period from 2013 to July 2014, with the test data spanning from August to December 2014"
   ]
  },
  {
   "cell_type": "markdown",
   "id": "98d5f0a2-8c5b-475e-81d6-4807c886371e",
   "metadata": {},
   "source": [
    "## Key Question:\n",
    "\n",
    "1. How can we effectively sample and clean the data to prepare it for analysis?\n",
    "2. What insights can we gather from each column to gain a comprehensive understanding of their significance?\n",
    "3. How can we draw meaningful conclusions and identify the target variable, along with selecting suitable models for predictive analysis?"
   ]
  },
  {
   "cell_type": "markdown",
   "id": "b04891a2-1ae8-4676-949f-68ed0d2d1f80",
   "metadata": {},
   "source": [
    "## Assumptions & Limitations:\n",
    "\n",
    "Assumptions:\n",
    "\n",
    "1. Data Accuracy: It is assumed that the provided data accurately represents a subset of Expedia's extensive dataset.\n",
    "2. Relevance of Clusters: The assumption is made that hotel clusters are significant identifiers of user booking preferences.\n",
    "\n",
    "Limitations:\n",
    "\n",
    "1. Data Encoding: The dataset lacks categorical columns, as all variables are stored numerically. This necessitates the non-standard treatment of numerical columns.\n",
    "2. Temporal Constraints: The data covers a limited timeframe and does not capture long-term trends or seasonal variations."
   ]
  },
  {
   "cell_type": "markdown",
   "id": "6e32dcb9-bb87-41b5-83bd-204ef2ab5077",
   "metadata": {},
   "source": [
    "## Methods:\n",
    "\n",
    "The analysis begins with the acquisition of a representative sample from Expedia's customer interaction dataset, accessible on the Kaggle website. The report proceeds by splitting the data into training and test sets based on the interaction's datetime, enabling us to assess prediction accuracy in the future. Data cleaning is undertaken to ensure data quality, followed by a comprehensive exploratory data analysis aimed at unveiling the underlying characteristics and interpretations of each column."
   ]
  },
  {
   "cell_type": "markdown",
   "id": "358e691a-3b07-4ff0-8ce5-ad9c78570a46",
   "metadata": {},
   "source": [
    "## Finding & Analysis:\n",
    "\n",
    "In the year 2013, the months with the highest website interactions were March, July, and October. This pattern continues into 2014, with July being the peak month. Unfortunately, our data only goes up to July 2014. The year 2014 shows an increase in interactions compared to 2013, indicating growing website engagement.\n",
    "\n",
    "We observed that each site name (e.g., Expedia.com, Expedia.co.uk) corresponds to only one continent. However, multiple site names may link to the same continent. It suggests that certain user locations are more engaged in searches, possibly where Expedia is more popular.\n",
    "\n",
    "The median distance between the origin and destination points is approximately 1168.39 miles, which is approximately a 2-hour flight. This gives us an idea of the average travel distances customers are interested in.\n",
    "\n",
    "Most users access the website from non-mobile devices. Additionally, they often search for hotel options without combining them with flight packages, implying that a significant portion of the users might be primarily interested in hotels.\n",
    "\n",
    "The majority of customers searching the website are likely looking for a one-day hotel stay, typically for two people, likely a couple, booking only one room and traveling without children. They also show a preference for starting their hotel stays on Sundays and tend to conduct searches primarily on weekdays.\n",
    "\n",
    "In terms of destination types, there are 11 options available. More than half of the destinations are classified as type 1. This suggests a high demand for a particular type of destination.\n",
    "\n",
    "Only 8.71% of the interactions result in actual bookings.\n",
    "\n",
    "Destinations in different continents vary in terms of the number of associated countries. Some continents have multiple countries to explore, while others only have a few like 2.\n",
    "\n",
    "The target variable for our predictive modeling is the hotel cluster.\n",
    "\n",
    "These findings provide valuable insights into user behavior and preferences on the Expedia website, which will be crucial for any predictive modeling or recommendations for users."
   ]
  },
  {
   "cell_type": "markdown",
   "id": "0a8ed99d-8095-41af-960e-9b0a8ac194f0",
   "metadata": {},
   "source": [
    "## EDA"
   ]
  },
  {
   "cell_type": "code",
   "execution_count": 1,
   "id": "35259b4d",
   "metadata": {
    "tags": []
   },
   "outputs": [],
   "source": [
    "# Imports`\n",
    "import pandas as pd\n",
    "import numpy as np\n",
    "import matplotlib.pyplot as plt\n",
    "import seaborn as sns\n",
    "import pyarrow.parquet as pq\n",
    "import plotly.express as px\n",
    "from scipy import stats\n",
    "from scipy.stats import norm\n",
    "import seaborn as sns"
   ]
  },
  {
   "cell_type": "code",
   "execution_count": null,
   "id": "c7e94249",
   "metadata": {
    "tags": []
   },
   "outputs": [],
   "source": [
    "#Loding the data\n",
    "hotel_data = pd.read_csv('/Users/laisamorim/Desktop/Brain Station Course/Capstone/Notebooks/Data/train.csv')"
   ]
  },
  {
   "cell_type": "markdown",
   "id": "d8fb8bd1-c7c4-4325-98b6-5041abd58cee",
   "metadata": {},
   "source": [
    "As the data is very big I got a sample of 4670293 and put the random_state so I can replicate if I need."
   ]
  },
  {
   "cell_type": "code",
   "execution_count": null,
   "id": "d171c760",
   "metadata": {},
   "outputs": [],
   "source": [
    "hotel_df = hotel_data.sample(n = 4670293, random_state = 42)"
   ]
  },
  {
   "cell_type": "code",
   "execution_count": null,
   "id": "a3c4d064",
   "metadata": {},
   "outputs": [],
   "source": [
    "# Save the sampled data to a CSV file\n",
    "hotel_df.to_csv('hotel_df.csv', index=False)"
   ]
  },
  {
   "cell_type": "code",
   "execution_count": null,
   "id": "e75c1726-5362-4e31-be3d-2bf24dd425b2",
   "metadata": {},
   "outputs": [],
   "source": [
    "#Loding the data\n",
    "hotel_df = pd.read_csv('/Users/laisamorim/Desktop/Brain Station Course/Capstone/Notebooks/Data/hotel_df.csv')"
   ]
  },
  {
   "cell_type": "code",
   "execution_count": null,
   "id": "a44b41a5-fca3-40ae-83ac-8d93c9fa6f37",
   "metadata": {},
   "outputs": [],
   "source": [
    "hotel_df.head()"
   ]
  },
  {
   "cell_type": "code",
   "execution_count": null,
   "id": "16a09cdc-4ad9-410c-95e3-55e3e5477ed4",
   "metadata": {},
   "outputs": [],
   "source": [
    "hotel_df.columns"
   ]
  },
  {
   "cell_type": "code",
   "execution_count": null,
   "id": "25b20d6a-c4d2-42ce-971f-e5495a6d6e42",
   "metadata": {},
   "outputs": [],
   "source": [
    "hotel_df.info()"
   ]
  },
  {
   "cell_type": "code",
   "execution_count": null,
   "id": "ed2d6a21-f52e-4d87-98ef-00f473870094",
   "metadata": {},
   "outputs": [],
   "source": [
    "hotel_df['date_time'] = pd.to_datetime(hotel_df['date_time'])"
   ]
  },
  {
   "cell_type": "code",
   "execution_count": null,
   "id": "b03d3fbb-b8bd-4d10-a5ca-aee959889d57",
   "metadata": {},
   "outputs": [],
   "source": [
    "hotel_df.info()"
   ]
  },
  {
   "cell_type": "markdown",
   "id": "c46861b7-bbcf-4fe6-8a19-da164fee411c",
   "metadata": {},
   "source": [
    "As the column 'date_time' is an object I change it to a datetime, so I will split the data into train and in test the train data will be for year 2013 and July of 2014 and the test data will be from August to end of the year of 2014"
   ]
  },
  {
   "cell_type": "code",
   "execution_count": null,
   "id": "df23588a-153f-40ae-a582-7c9aab2f905a",
   "metadata": {},
   "outputs": [],
   "source": [
    "hotel_df = hotel_df[((hotel_df['date_time'].dt.year == 2013) | ((hotel_df['date_time'].dt.year == 2014) & (hotel_df['date_time'].dt.month < 8)))]\n",
    "test = hotel_df[((hotel_df['date_time'].dt.year == 2014) & (hotel_df['date_time'].dt.month >= 8))]"
   ]
  },
  {
   "cell_type": "code",
   "execution_count": null,
   "id": "3636d467",
   "metadata": {},
   "outputs": [],
   "source": [
    "hotel_df.head()"
   ]
  },
  {
   "cell_type": "code",
   "execution_count": null,
   "id": "e41612d9",
   "metadata": {},
   "outputs": [],
   "source": [
    "print(f'There are {hotel_df.shape[0]} columns and {hotel_df.shape[1]} rows')"
   ]
  },
  {
   "cell_type": "code",
   "execution_count": null,
   "id": "0fb3adfc",
   "metadata": {},
   "outputs": [],
   "source": [
    "hotel_df.info()"
   ]
  },
  {
   "cell_type": "code",
   "execution_count": null,
   "id": "2622e23f",
   "metadata": {},
   "outputs": [],
   "source": [
    "hotel_df.duplicated().sum()"
   ]
  },
  {
   "cell_type": "code",
   "execution_count": null,
   "id": "9ce7ac8f-512d-4e52-8578-c730bab1d47b",
   "metadata": {},
   "outputs": [],
   "source": [
    "duplicate_rows = hotel_df[hotel_df.duplicated(keep=False)]\n",
    "\n",
    "# Sort in descending order\n",
    "duplicate_rows = duplicate_rows.sort_values(by='date_time', ascending=False)\n",
    "\n",
    "duplicate_rows"
   ]
  },
  {
   "cell_type": "code",
   "execution_count": null,
   "id": "98052fd1-6c05-4520-8072-bff811106984",
   "metadata": {},
   "outputs": [],
   "source": [
    "duplicate_percentage = (hotel_df.duplicated().sum() / len(hotel_df)) * 100\n",
    "duplicate_percentage"
   ]
  },
  {
   "cell_type": "code",
   "execution_count": null,
   "id": "b9eba026-dc5c-4d1c-9123-32ad5aad2bf5",
   "metadata": {},
   "outputs": [],
   "source": [
    "hotel_df = hotel_df.drop_duplicates()"
   ]
  },
  {
   "cell_type": "code",
   "execution_count": null,
   "id": "c7106ccc-49da-42e4-88b1-403833a1fe73",
   "metadata": {},
   "outputs": [],
   "source": [
    "hotel_df.duplicated().sum()"
   ]
  },
  {
   "cell_type": "markdown",
   "id": "88ee8a3b-a5b8-4d27-86f3-e8459720e710",
   "metadata": {},
   "source": [
    "Upon closer inspection of the data, I identified 11 duplicate columns. After further examination and considering the percentage of duplication, I have decided to remove these columns from the dataset."
   ]
  },
  {
   "cell_type": "code",
   "execution_count": null,
   "id": "921f73b4",
   "metadata": {},
   "outputs": [],
   "source": [
    "hotel_df.isna().sum()"
   ]
  },
  {
   "cell_type": "code",
   "execution_count": null,
   "id": "b81e26ce-fa51-4390-b16f-db9bab30a365",
   "metadata": {},
   "outputs": [],
   "source": [
    "hotel_df[hotel_df['orig_destination_distance'].isna()]"
   ]
  },
  {
   "cell_type": "code",
   "execution_count": null,
   "id": "a482e43a-81c8-447f-abf8-52d87b3a8781",
   "metadata": {},
   "outputs": [],
   "source": [
    "percentage_nan = (hotel_df['orig_destination_distance'].isna().sum() / len(hotel_df)) * 100\n",
    "percentage_nan"
   ]
  },
  {
   "cell_type": "code",
   "execution_count": null,
   "id": "7c8e1a15-5d0b-430d-901f-e1497d50aa64",
   "metadata": {},
   "outputs": [],
   "source": [
    "hotel_df.dropna(subset=['orig_destination_distance'], inplace=True)"
   ]
  },
  {
   "cell_type": "code",
   "execution_count": null,
   "id": "a9ab0c4d-f1ca-4414-80a5-8939cbc73e85",
   "metadata": {},
   "outputs": [],
   "source": [
    "hotel_df['orig_destination_distance'].isna().sum()"
   ]
  },
  {
   "cell_type": "markdown",
   "id": "cd744985-0b9e-4c02-80c3-b2fdb8628518",
   "metadata": {},
   "source": [
    "I decided to remove the `orig_destination_distance` column due to the presence of a significant number of NaN values, exceeding 20%."
   ]
  },
  {
   "cell_type": "code",
   "execution_count": null,
   "id": "ea2b2645-da75-431b-887c-3e7729816295",
   "metadata": {},
   "outputs": [],
   "source": [
    "percentage_nan = (hotel_df['srch_ci'].isna().sum() / len(hotel_df)) * 100\n",
    "percentage_nan"
   ]
  },
  {
   "cell_type": "code",
   "execution_count": null,
   "id": "82a89b35-d632-4027-bb10-c45cca88ff86",
   "metadata": {},
   "outputs": [],
   "source": [
    "hotel_df.dropna(subset=['srch_ci'], inplace=True)"
   ]
  },
  {
   "cell_type": "code",
   "execution_count": null,
   "id": "d0e09aa4-fd54-42d8-9a85-8e8a120b02ff",
   "metadata": {},
   "outputs": [],
   "source": [
    "hotel_df['srch_ci'].isna().sum()"
   ]
  },
  {
   "cell_type": "code",
   "execution_count": null,
   "id": "469c8f86-3e60-4a19-9325-f5efe5d73941",
   "metadata": {},
   "outputs": [],
   "source": [
    "hotel_df['srch_co'].isna().sum()"
   ]
  },
  {
   "cell_type": "markdown",
   "id": "89bb3da0-4e53-4e8e-8c06-fa4229785a0d",
   "metadata": {},
   "source": [
    "##### I decided to drop the NaN values in the `srch_ci` column, as they accounted for just 0.159% of the data. Upon further investigation, I found that the same rows with NaN values in `srch_ci` also had NaN values in `srch_co`. Consequently, I have successfully eliminated NaN values in both columns."
   ]
  },
  {
   "cell_type": "code",
   "execution_count": null,
   "id": "f1d1ec53-5002-4504-b053-3d0f935f6d28",
   "metadata": {},
   "outputs": [],
   "source": [
    "hotel_df.isna().sum()"
   ]
  },
  {
   "cell_type": "code",
   "execution_count": null,
   "id": "834f99e4-20e8-4c0c-8c62-9585e39d5d6f",
   "metadata": {},
   "outputs": [],
   "source": [
    "# Have a new name for the clean data\n",
    "hotel_clean = hotel_df"
   ]
  },
  {
   "cell_type": "code",
   "execution_count": null,
   "id": "4d241c20-2857-41d8-8f83-b9ae177d2eaa",
   "metadata": {},
   "outputs": [],
   "source": [
    "# Checking the data\n",
    "hotel_clean.head(5)"
   ]
  },
  {
   "cell_type": "markdown",
   "id": "d862f1b8",
   "metadata": {},
   "source": [
    "#### Making an analysis in column `Date_time` <a class= 'anchor' id = '1'></a> "
   ]
  },
  {
   "cell_type": "code",
   "execution_count": null,
   "id": "061ead10-9d93-40fd-9373-8476c1cf36c4",
   "metadata": {},
   "outputs": [],
   "source": [
    "hotel_clean.info()"
   ]
  },
  {
   "cell_type": "markdown",
   "id": "29c05ee4-8389-4e95-8a8c-4b4e4d742228",
   "metadata": {},
   "source": [
    "I already verified that the `Date_time` column was initially in object format, and to facilitate data manipulation within this column, I converted it to a datetime format."
   ]
  },
  {
   "cell_type": "code",
   "execution_count": null,
   "id": "f1cdadf7",
   "metadata": {},
   "outputs": [],
   "source": [
    "hotel_clean"
   ]
  },
  {
   "cell_type": "code",
   "execution_count": null,
   "id": "f7f46183-7c55-4b97-8c48-1344861cb9d3",
   "metadata": {},
   "outputs": [],
   "source": [
    "hotel_clean['date_time'].dt.year.unique()"
   ]
  },
  {
   "cell_type": "code",
   "execution_count": null,
   "id": "bd9adecb-435c-4caa-8377-a47feb34387b",
   "metadata": {},
   "outputs": [],
   "source": [
    "hotel_clean['date_time'].dt.month.unique()"
   ]
  },
  {
   "cell_type": "code",
   "execution_count": null,
   "id": "24409bb6",
   "metadata": {},
   "outputs": [],
   "source": [
    "# Just checking if we don't have the data from year 2014 after Agust\n",
    "hotel_clean[(hotel_clean['date_time'].dt.year == 2014) & (hotel_clean['date_time'].dt.month >= 8)]"
   ]
  },
  {
   "cell_type": "code",
   "execution_count": null,
   "id": "9c855f32",
   "metadata": {},
   "outputs": [],
   "source": [
    "# Filter the data for the year 2013\n",
    "data_2013 = hotel_clean[hotel_clean['date_time'].dt.year == 2013]\n",
    "\n",
    "# Plot the number of hotel bookings per month in 2013\n",
    "plt.figure(figsize=(12, 6))\n",
    "data_2013['date_time'].dt.month.value_counts().sort_index().plot()\n",
    "plt.xlabel('Month')\n",
    "plt.ylabel('Number of Bookings')\n",
    "plt.title('Hotel Bookings per Month in 2013')\n",
    "plt.xticks(range(1, 13), labels=['Jan', 'Feb', 'Mar', 'Apr', 'May', 'Jun', 'Jul', 'Aug', 'Sep', 'Oct', 'Nov', 'Dec'])\n",
    "plt.show()"
   ]
  },
  {
   "cell_type": "markdown",
   "id": "9f9beb92-d338-405c-9b41-9da6ebdb7ae2",
   "metadata": {},
   "source": [
    "The data reveals distinct patterns in website traffic throughout the year 2013. At the beginning and end of the year, there were notably lower levels of activity. However, during the summer vacation month of July, as well as in March and October, there were significant peaks in website traffic."
   ]
  },
  {
   "cell_type": "code",
   "execution_count": null,
   "id": "6af56789",
   "metadata": {},
   "outputs": [],
   "source": [
    "# Filter the data for the year 2014\n",
    "data_2014 = hotel_clean[hotel_clean['date_time'].dt.year == 2014]\n",
    "\n",
    "# Plot the number of hotel bookings per month in 2014\n",
    "plt.figure(figsize=(12, 6))\n",
    "data_2014['date_time'].dt.month.value_counts().sort_index().plot()\n",
    "plt.xlabel('Month')\n",
    "plt.ylabel('Number of Bookings')\n",
    "plt.title('Hotel Bookings per Month in 2014')\n",
    "plt.xticks(range(1, 13), labels=['Jan', 'Feb', 'Mar', 'Apr', 'May', 'Jun', 'Jul', 'Aug', 'Sep', 'Oct', 'Nov', 'Dec'])\n",
    "plt.show()"
   ]
  },
  {
   "cell_type": "markdown",
   "id": "816170f5",
   "metadata": {},
   "source": [
    "On the contrary, 2014 marked a significant increase in website traffic. July stood out as the busiest month, being the latest month for which we have data. Conversely, the year began with relatively lower activity in January and February. Notably, we still observed distinct spikes in traffic during March and July, reminiscent of the patterns seen in 2013."
   ]
  },
  {
   "cell_type": "markdown",
   "id": "f10f2d1e",
   "metadata": {},
   "source": [
    "#### Making an analysis in column `site_name` <a class= 'anchor' id = '2'></a> "
   ]
  },
  {
   "cell_type": "code",
   "execution_count": null,
   "id": "4677735b",
   "metadata": {},
   "outputs": [],
   "source": [
    "website_count = hotel_df['site_name'].value_counts()\n",
    "total_count = len(hotel_df)\n",
    "\n",
    "percentages = (website_count / total_count) * 100\n",
    "percentages"
   ]
  },
  {
   "cell_type": "code",
   "execution_count": null,
   "id": "56360b80",
   "metadata": {},
   "outputs": [],
   "source": [
    "hotel_clean['site_name'].nunique()"
   ]
  },
  {
   "cell_type": "code",
   "execution_count": null,
   "id": "6584f6d2-c882-4c9e-abd9-cf16ccb9e4ad",
   "metadata": {},
   "outputs": [],
   "source": [
    "percentage_less_than_1 = percentages <= 1\n",
    "percentage_less_than_1.value_counts()"
   ]
  },
  {
   "cell_type": "markdown",
   "id": "ac656511",
   "metadata": {},
   "source": [
    "A total of 75.14% of customers are visiting website 2, while the remaining 33 out of 39 websites (e.g., Expedia.com, Expedia.co.uk, Expedia.co.jp) each receive less than 1% of customer interactions."
   ]
  },
  {
   "cell_type": "code",
   "execution_count": null,
   "id": "b04abf3a-42db-49fd-ace5-2bd60d9b7ee9",
   "metadata": {},
   "outputs": [],
   "source": [
    "site_counts = hotel_clean['site_name'].value_counts()\n",
    "\n",
    "# Sort the site by frequency in descending order\n",
    "site_counts = site_counts.sort_values(ascending=False)\n",
    "\n",
    "# Create a bar plot\n",
    "plt.figure(figsize=(12, 6))\n",
    "site_counts.plot(kind='bar')\n",
    "plt.xlabel('Site name')\n",
    "plt.ylabel('Frequency')\n",
    "plt.title('Frequency of Each Site Name in the Dataset')\n",
    "plt.xticks(rotation=45) \n",
    "\n",
    "# Show the plot\n",
    "plt.show()"
   ]
  },
  {
   "cell_type": "markdown",
   "id": "5b5ddb7b",
   "metadata": {},
   "source": [
    "#### Making an analysis in cloumn `posa_continent` <a class= 'anchor' id = '3'></a> "
   ]
  },
  {
   "cell_type": "code",
   "execution_count": null,
   "id": "8049afe0",
   "metadata": {},
   "outputs": [],
   "source": [
    "hotel_clean['posa_continent'].unique()"
   ]
  },
  {
   "cell_type": "code",
   "execution_count": null,
   "id": "5a1c0bb8",
   "metadata": {},
   "outputs": [],
   "source": [
    "filtered_data = hotel_clean[hotel_clean['site_name'] == 2]\n",
    "\n",
    "# Print the filtered data\n",
    "print(filtered_data['posa_continent'].unique())"
   ]
  },
  {
   "cell_type": "code",
   "execution_count": null,
   "id": "ece436f6-25b9-4e4c-a2ab-57447d6873a2",
   "metadata": {},
   "outputs": [],
   "source": [
    "filtered_data = hotel_clean[hotel_clean['site_name'] == 40]\n",
    "\n",
    "# Print the filtered data\n",
    "print(filtered_data['posa_continent'].unique())"
   ]
  },
  {
   "cell_type": "code",
   "execution_count": null,
   "id": "05b83557",
   "metadata": {},
   "outputs": [],
   "source": [
    "filtered_data = hotel_clean[hotel_clean['posa_continent'] == 3]\n",
    "\n",
    "# Print the filtered data\n",
    "print(filtered_data['site_name'].unique())"
   ]
  },
  {
   "cell_type": "code",
   "execution_count": null,
   "id": "d542258c",
   "metadata": {},
   "outputs": [],
   "source": [
    "filtered_data = hotel_clean[hotel_clean['posa_continent'] == 1]\n",
    "\n",
    "# Print the filtered data\n",
    "print(filtered_data['site_name'].unique())"
   ]
  },
  {
   "cell_type": "code",
   "execution_count": null,
   "id": "715508ed-03d9-4e57-84c1-5b2e95e19374",
   "metadata": {},
   "outputs": [],
   "source": [
    "filtered_data = hotel_clean[hotel_clean['posa_continent'] == 4]\n",
    "\n",
    "# Print the filtered data\n",
    "print(filtered_data['site_name'].unique())"
   ]
  },
  {
   "cell_type": "code",
   "execution_count": null,
   "id": "b7942f59-05eb-4f07-a28f-940969af7759",
   "metadata": {},
   "outputs": [],
   "source": [
    "filtered_data = hotel_clean[hotel_clean['posa_continent'] == 0]\n",
    "\n",
    "# Print the filtered data\n",
    "print(filtered_data['site_name'].unique())"
   ]
  },
  {
   "cell_type": "code",
   "execution_count": null,
   "id": "9dd18cf3-c24d-4f7a-9bb7-8cba09231d1d",
   "metadata": {},
   "outputs": [],
   "source": [
    "filtered_data = hotel_clean[hotel_clean['posa_continent'] == 2]\n",
    "\n",
    "# Print the filtered data\n",
    "print(filtered_data['site_name'].unique())"
   ]
  },
  {
   "cell_type": "markdown",
   "id": "1749adb7-92bb-4e73-a55c-919af5d01b09",
   "metadata": {},
   "source": [
    "It's evident that there are five continents associated with the site names, which are labeled as 3, 1, 4, 0, and 2. Each of these continents corresponds to a set of site names through which users can access the Expedia website. However, it's worth noting that each website is exclusive to a single continent."
   ]
  },
  {
   "cell_type": "code",
   "execution_count": null,
   "id": "47936ccb-4d79-40f9-a605-d55f5fb07592",
   "metadata": {},
   "outputs": [],
   "source": [
    "# Group the data by 'posa_continent' and 'site_name' and count the occurrences\n",
    "grouped_data = hotel_clean.groupby(['posa_continent', 'site_name']).size().unstack(fill_value=0)\n",
    "\n",
    "# Create a stacked bar plot\n",
    "grouped_data.plot(kind='bar', stacked=True, figsize=(10, 6))\n",
    "\n",
    "# Customize the plot with labels and titles\n",
    "plt.xlabel('Continent')\n",
    "plt.ylabel('Count')\n",
    "plt.title('Distribution of Site Names by Continent')\n",
    "\n",
    "# Show the plot\n",
    "plt.legend(title='Site Names', loc='upper right')\n",
    "plt.show()"
   ]
  },
  {
   "cell_type": "code",
   "execution_count": null,
   "id": "bdb0fa28-a818-4bc4-a64b-a6ed6e93ac33",
   "metadata": {},
   "outputs": [],
   "source": [
    "# Group the data by 'posa_continent' and 'site_name' and count the occurrences\n",
    "grouped_data = hotel_clean.groupby(['posa_continent', 'site_name']).size().unstack(fill_value=0)\n",
    "\n",
    "# Calculate the total count for each 'posa_continent'\n",
    "total_counts = grouped_data.sum(axis=1)\n",
    "\n",
    "# Calculate the percentage for each 'site_name'\n",
    "percentage_data = grouped_data.divide(total_counts, axis=0) * 100\n",
    "\n",
    "# Create a stacked bar plot with percentages\n",
    "percentage_data.plot(kind='bar', stacked=True, figsize=(10, 6))\n",
    "\n",
    "# Customize the plot with labels and titles\n",
    "plt.xlabel('Continent')\n",
    "plt.ylabel('Percentage')\n",
    "plt.title('Percentage Distribution of Site Names by Continent')\n",
    "\n",
    "# Show the plot\n",
    "plt.legend(title='Site Names', loc='upper right')\n",
    "plt.show()"
   ]
  },
  {
   "cell_type": "code",
   "execution_count": null,
   "id": "d66fb453-22b1-4af8-8d72-4151e7697ddf",
   "metadata": {},
   "outputs": [],
   "source": [
    "# getting the percentage \n",
    "df_filtered = percentage_data[percentage_data > 0]\n",
    "df_filtered.head(5)"
   ]
  },
  {
   "cell_type": "markdown",
   "id": "11596953-6b29-44c2-9f4a-751bf7844853",
   "metadata": {},
   "source": [
    "This graphic provides valuable insights into the percentage distribution of each website among different continents. It's evident that continent 6 is where we observe the highest interaction rate on the website"
   ]
  },
  {
   "cell_type": "markdown",
   "id": "b5adedf8-153a-4b5f-b05a-b458e5afbaf0",
   "metadata": {},
   "source": [
    "#### Making an analysis in column `user_location_country` <a class= 'anchor' id = '4'></a> "
   ]
  },
  {
   "cell_type": "code",
   "execution_count": null,
   "id": "913e1028-5967-4eca-9fcb-b5cc0c502728",
   "metadata": {},
   "outputs": [],
   "source": [
    "hotel_clean['user_location_country'].nunique()"
   ]
  },
  {
   "cell_type": "code",
   "execution_count": null,
   "id": "1cb99f3e-5174-4bee-bcd1-f9f130a5a036",
   "metadata": {},
   "outputs": [],
   "source": [
    "hotel_clean['user_location_country'].unique()"
   ]
  },
  {
   "cell_type": "code",
   "execution_count": null,
   "id": "7a366822-ec28-4931-bc8a-efbf099b2d08",
   "metadata": {},
   "outputs": [],
   "source": [
    "# Counting the countries\n",
    "country_counts = hotel_clean['user_location_country'].value_counts()\n",
    "\n",
    "# Sort the countries by frequency in descending order\n",
    "country_counts = country_counts.sort_values(ascending=False)\n",
    "\n",
    "# Create a bar plot\n",
    "plt.figure(figsize=(12, 6))\n",
    "country_counts.plot(kind='bar')\n",
    "plt.xlabel('Country')\n",
    "plt.ylabel('Frequency')\n",
    "plt.title('Frequency of Each Country in the Dataset')\n",
    "plt.xticks(rotation=45) \n",
    "\n",
    "# Show the plot\n",
    "plt.show()"
   ]
  },
  {
   "cell_type": "markdown",
   "id": "05f9d11c-a781-4a3a-8a9e-e20806b78025",
   "metadata": {},
   "source": [
    "In this grafic we can see that we have 21 countrys and the country 66 is the one that more customer engagement."
   ]
  },
  {
   "cell_type": "code",
   "execution_count": null,
   "id": "82e921f2-a126-404d-a861-623b3cb5f231",
   "metadata": {},
   "outputs": [],
   "source": [
    "hotel_clean.head(10)"
   ]
  },
  {
   "cell_type": "markdown",
   "id": "c976b12c-1873-4851-a90d-a3f44ef0a8d3",
   "metadata": {},
   "source": [
    "#### Making an analysis in columns `user_location_region` and `user_location_city` <a class= 'anchor' id = '5'></a> "
   ]
  },
  {
   "cell_type": "code",
   "execution_count": null,
   "id": "499b973c-fca9-489f-9147-e4644a32d55e",
   "metadata": {},
   "outputs": [],
   "source": [
    "hotel_clean['user_location_region'].nunique()"
   ]
  },
  {
   "cell_type": "code",
   "execution_count": null,
   "id": "afabb4f0-f9d4-4cd5-a7fc-231e4d36af88",
   "metadata": {},
   "outputs": [],
   "source": [
    "hotel_clean['user_location_city'].nunique()"
   ]
  },
  {
   "cell_type": "code",
   "execution_count": null,
   "id": "14f97664-2ffa-43d8-a0d5-93a37db9e0cc",
   "metadata": {},
   "outputs": [],
   "source": [
    "hotel_clean['user_location_region'].unique()"
   ]
  },
  {
   "cell_type": "markdown",
   "id": "03d3e02b-a6dd-4c54-8143-2b72bf683315",
   "metadata": {},
   "source": [
    "It's evident that in this dataset containing 218 distinct regions and a total of 8,456 unique cities."
   ]
  },
  {
   "cell_type": "markdown",
   "id": "b054606b-725d-4fff-ab7e-2b2219cd60a5",
   "metadata": {},
   "source": [
    "#### Making an analysis in column `orig_destination_distance` <a class= 'anchor' id = '6'></a> "
   ]
  },
  {
   "cell_type": "code",
   "execution_count": null,
   "id": "c97f30df",
   "metadata": {},
   "outputs": [],
   "source": [
    "hotel_clean['orig_destination_distance'].nunique()"
   ]
  },
  {
   "cell_type": "code",
   "execution_count": null,
   "id": "e93b1387",
   "metadata": {},
   "outputs": [],
   "source": [
    "hotel_clean['orig_destination_distance'].median()"
   ]
  },
  {
   "cell_type": "code",
   "execution_count": null,
   "id": "620ded3a-7463-461c-9bd0-4f4107ca9098",
   "metadata": {},
   "outputs": [],
   "source": [
    "# Set the float format to display numbers without scientific notation\n",
    "pd.options.display.float_format = '{:.2f}'.format\n",
    "\n",
    "# Describe\n",
    "column_description = hotel_clean['orig_destination_distance'].describe()\n",
    "print(column_description)"
   ]
  },
  {
   "cell_type": "code",
   "execution_count": null,
   "id": "93a38c82",
   "metadata": {},
   "outputs": [],
   "source": [
    "plt.figure(figsize=(8, 6))\n",
    "plt.boxplot(hotel_clean['orig_destination_distance'], vert=False)  \n",
    "plt.title('frequency of Distance')\n",
    "plt.xlabel('Distance')\n",
    "plt.show()"
   ]
  },
  {
   "cell_type": "markdown",
   "id": "78a0f1d4-6009-4526-b8e0-81a6b4bcee85",
   "metadata": {},
   "source": [
    "The majority of distances between hotels and customers during their searches are below 3000, with an average distance of approximately 1975.54. Furthermore, we observe that both the minimum and maximum distances exhibit significant variation. The maximum distance recorded is as high as 12280.48, while the minimum is a mere 0.01. Additionally, the median distance shows that 50% of customers search for hotels at a location of approximately 1168.39."
   ]
  },
  {
   "cell_type": "markdown",
   "id": "eeccf856-689b-459b-994c-0219267ca849",
   "metadata": {},
   "source": [
    "#### Making an analysis in column `user_id` <a class= 'anchor' id = '7'></a> "
   ]
  },
  {
   "cell_type": "code",
   "execution_count": null,
   "id": "acceb848",
   "metadata": {},
   "outputs": [],
   "source": [
    "hotel_clean['user_id'].nunique()"
   ]
  },
  {
   "cell_type": "code",
   "execution_count": null,
   "id": "08dbc40c-1fb7-4579-9708-0a16e3aa062e",
   "metadata": {},
   "outputs": [],
   "source": [
    "customer_frequency = hotel_clean['user_id'].value_counts()\n",
    "\n",
    "# Calculate the average frequency\n",
    "average_frequency = customer_frequency.mean()\n",
    "\n",
    "print(f'Average Frequency of Customer Interactions: {average_frequency:.2f}')"
   ]
  },
  {
   "cell_type": "markdown",
   "id": "0ae42f0e-3c10-4dfe-ace6-f1093bf3e37a",
   "metadata": {},
   "source": [
    "The mean interaction frequency per customer is approximately 3.89, this insight provides a valuable understanding of customer engagement."
   ]
  },
  {
   "cell_type": "markdown",
   "id": "a588ddbe-e42b-4913-b2b5-e29564787b3e",
   "metadata": {},
   "source": [
    "#### Naking an analysis in column `is_mobile` <a class= 'anchor' id = '8'></a> "
   ]
  },
  {
   "cell_type": "code",
   "execution_count": null,
   "id": "d3895581-aa96-4e9f-b23f-9e9c820e743f",
   "metadata": {},
   "outputs": [],
   "source": [
    "hotel_clean['is_mobile'].value_counts() / len(hotel_clean) * 100"
   ]
  },
  {
   "cell_type": "markdown",
   "id": "77368dd3-b882-42b6-b71e-d8401e767a85",
   "metadata": {},
   "source": [
    "In this dataset, the vast majority of customers, accounting for 87.05%, accessed the website from non-mobile devices, while the remaining 12.95% accessed it from mobile devices."
   ]
  },
  {
   "cell_type": "markdown",
   "id": "fa245e49-aa7f-4cb4-9fa9-99afd0cdae9e",
   "metadata": {},
   "source": [
    "#### Making an analysis in column `is_package` <a class= 'anchor' id = '9'></a> "
   ]
  },
  {
   "cell_type": "code",
   "execution_count": null,
   "id": "84259fd1-5f15-4d24-9857-f700a8e41979",
   "metadata": {},
   "outputs": [],
   "source": [
    "hotel_clean['is_package'].value_counts() / len(hotel_clean) * 100"
   ]
  },
  {
   "cell_type": "markdown",
   "id": "9e10d0ae-b064-44e1-bd89-2951e22c25f7",
   "metadata": {},
   "source": [
    "Within this dataset, the majority of clicks/bookings, totaling 75.39%, were d. In contrast, 24.61% of the interactions involved such combined packages."
   ]
  },
  {
   "cell_type": "markdown",
   "id": "297a5eed-2cd8-4ebb-8b87-d71c043ca64c",
   "metadata": {},
   "source": [
    "#### Making an analysis in column `channel` <a class= 'anchor' id = '10'></a> "
   ]
  },
  {
   "cell_type": "code",
   "execution_count": null,
   "id": "a869c8ac-e90a-437a-99f8-964e05df1bf2",
   "metadata": {},
   "outputs": [],
   "source": [
    "hotel_clean['channel'].unique()"
   ]
  },
  {
   "cell_type": "code",
   "execution_count": null,
   "id": "5ccb9d6b-548a-43a1-8de9-b07fbf8cfb76",
   "metadata": {},
   "outputs": [],
   "source": [
    "# Counting the channel\n",
    "channel_counts = hotel_clean['channel'].value_counts()\n",
    "\n",
    "# Sort the channel by frequency in descending order\n",
    "channel_counts = channel_counts.sort_values(ascending=False)\n",
    "\n",
    "# Calculate the percentages\n",
    "percentages = (channel_counts / len(hotel_clean) * 100).round(2)\n",
    "\n",
    "# Create a bar plot\n",
    "plt.figure(figsize=(12, 6))\n",
    "ax = channel_counts.plot(kind='bar')\n",
    "plt.xlabel('Channel')\n",
    "plt.ylabel('Frequency')\n",
    "plt.title('Frequency of Each Channel in the Dataset')\n",
    "plt.xticks(rotation=0)\n",
    "\n",
    "# Adding labels to the bars with frequencies and percentages\n",
    "for i, (v, p) in enumerate(zip(channel_counts, percentages)):\n",
    "    ax.text(i, v, f'{p}%', ha='center', va='bottom')\n",
    "\n",
    "# Show the plot\n",
    "plt.show()"
   ]
  },
  {
   "cell_type": "markdown",
   "id": "32cff885-2336-47e8-a206-40cb301c554c",
   "metadata": {},
   "source": [
    "We observe that among the 11 available ID channels, a significant majority, comprising 60.22%, is associated with Channel 9. Additionally, there are four channels, each contributing less than 1% to the dataset."
   ]
  },
  {
   "cell_type": "markdown",
   "id": "bacd55a3-9851-4066-a612-c0c9baea4fc8",
   "metadata": {},
   "source": [
    "#### Making an analysis in columns `srch_ci`, `srch_co` and `number_of_days` <a class= 'anchor' id = '11'></a> "
   ]
  },
  {
   "cell_type": "code",
   "execution_count": null,
   "id": "6db1d147-0d48-4417-8d4f-31a6be47ce0b",
   "metadata": {},
   "outputs": [],
   "source": [
    "hotel_clean['srch_ci'].head(10)"
   ]
  },
  {
   "cell_type": "code",
   "execution_count": null,
   "id": "4d64fd4f-e432-49f2-b427-647f9a14b8f5",
   "metadata": {},
   "outputs": [],
   "source": [
    "hotel_clean['srch_co'].head(10)"
   ]
  },
  {
   "cell_type": "code",
   "execution_count": null,
   "id": "8abd3368-929f-4cc1-a60e-95ef782efdca",
   "metadata": {},
   "outputs": [],
   "source": [
    "hotel_clean.info()"
   ]
  },
  {
   "cell_type": "code",
   "execution_count": null,
   "id": "1757ad35-6b39-4b52-997e-6d6b00920bfc",
   "metadata": {},
   "outputs": [],
   "source": [
    "# Convert date columns to datetime objects\n",
    "hotel_clean['srch_ci'] = pd.to_datetime(hotel_clean['srch_ci'])\n",
    "hotel_clean['srch_co'] = pd.to_datetime(hotel_clean['srch_co'])"
   ]
  },
  {
   "cell_type": "code",
   "execution_count": null,
   "id": "342f0859-244f-4f5d-aa8c-5433a47aa864",
   "metadata": {},
   "outputs": [],
   "source": [
    "hotel_clean.info()"
   ]
  },
  {
   "cell_type": "code",
   "execution_count": null,
   "id": "c793685b-aa6d-44af-af79-14b83f7a6c0e",
   "metadata": {},
   "outputs": [],
   "source": [
    "hotel_clean['number_of_days'] = (hotel_clean['srch_co'] - hotel_clean['srch_ci']).dt.days\n",
    "hotel_clean['number_of_days'] "
   ]
  },
  {
   "cell_type": "code",
   "execution_count": null,
   "id": "9c723a1e-2bf3-488c-b6c7-675c9b882ed7",
   "metadata": {},
   "outputs": [],
   "source": [
    "hotel_clean['number_of_days'].nunique()"
   ]
  },
  {
   "cell_type": "code",
   "execution_count": null,
   "id": "f9c04813-d9ca-472d-8c4f-10e1077e790d",
   "metadata": {},
   "outputs": [],
   "source": [
    "hotel_clean['number_of_days'].value_counts() / len(hotel_clean) * 100"
   ]
  },
  {
   "cell_type": "code",
   "execution_count": null,
   "id": "0ab3a6d9-1e60-42b8-bd13-26e92c5a28ea",
   "metadata": {},
   "outputs": [],
   "source": [
    "# Counting the days\n",
    "channel_counts = hotel_clean['number_of_days'].value_counts()\n",
    "\n",
    "# Sort the days by frequency in descending order\n",
    "channel_counts = channel_counts.sort_values(ascending=False)\n",
    "\n",
    "# Calculate the percentages\n",
    "percentages = (channel_counts / len(hotel_clean) * 100).round(2)\n",
    "\n",
    "# Select the top 10 records\n",
    "top_10_channel_counts = channel_counts.head(10)\n",
    "top_10_percentages = percentages.head(10)\n",
    "\n",
    "# Create a bar plot\n",
    "plt.figure(figsize=(12, 6))\n",
    "ax = top_10_channel_counts.plot(kind='bar')\n",
    "plt.xlabel('Number of days')\n",
    "plt.ylabel('Frequency')\n",
    "plt.title('Top 10 Frequencies of Days in the Dataset')\n",
    "plt.xticks(rotation=0)\n",
    "\n",
    "# Adding labels to the bars with frequencies and percentages\n",
    "for i, (v, p) in enumerate(zip(top_10_channel_counts, top_10_percentages)):\n",
    "    ax.text(i, v, f'{p}%', ha='center', va='bottom')\n",
    "\n",
    "# Show the plot\n",
    "plt.show()"
   ]
  },
  {
   "cell_type": "markdown",
   "id": "117d1de5-ec00-48e1-aa91-a4f961156c89",
   "metadata": {},
   "source": [
    "This graphic highlights the top 10 search durations for hotel stays. Notably, around 27.8% of users opt for single-day hotel stays. In contrast, individuals planning extended stays of over ten days make up a minority, amounting to less than 1% of the searches."
   ]
  },
  {
   "cell_type": "code",
   "execution_count": null,
   "id": "0e839035-69fe-445f-9b2f-ddb3d5a8a77c",
   "metadata": {},
   "outputs": [],
   "source": [
    "hotel_day = hotel_clean['date_time'].dt.day_name()\n",
    "\n",
    "# Then, count the occurrences of each day\n",
    "day_counts = hotel_day.value_counts()\n",
    "\n",
    "# Sort the days by frequency in descending order\n",
    "day_counts = day_counts.sort_values(ascending=False)\n",
    "\n",
    "# Calculate the percentages\n",
    "day_percentages = (day_counts / len(hotel_clean) * 100).round(2)\n",
    "\n",
    "# Create a bar plot\n",
    "plt.figure(figsize=(12, 6))\n",
    "ax = day_counts.plot(kind='bar')\n",
    "plt.xlabel('Day of the Week')\n",
    "plt.ylabel('Frequency')\n",
    "plt.title('Frequency of Each Day in the Dataset')\n",
    "plt.xticks(rotation=0)\n",
    "\n",
    "# Adding labels to the bars with frequencies and percentages\n",
    "for i, (v, p) in enumerate(zip(day_counts, day_percentages)):\n",
    "    ax.text(i, v, f'{p}%', ha='center', va='bottom')\n",
    "\n",
    "# Show the plot\n",
    "plt.show()\n"
   ]
  },
  {
   "cell_type": "markdown",
   "id": "f6098b7c-4b5d-43ac-90cc-07c4591b7534",
   "metadata": {},
   "source": [
    "Wednesday, closely followed by Monday and Tuesday, is the day of the week when users are most active in terms of clicking and making bookings on the website. Conversely, activity is at its lowest on weekends, indicating reduced user engagement during that time."
   ]
  },
  {
   "cell_type": "code",
   "execution_count": null,
   "id": "4203b5fc-6b26-4dfa-a63e-9c7e43d72753",
   "metadata": {},
   "outputs": [],
   "source": [
    "hotel_clean['srch_co'].head(10)"
   ]
  },
  {
   "cell_type": "code",
   "execution_count": null,
   "id": "6c805998-7394-4a09-b489-3ae80c4bbd8f",
   "metadata": {},
   "outputs": [],
   "source": [
    "checkin_day = hotel_clean['srch_co'].dt.day_name()\n",
    "\n",
    "# Then, count the occurrences of each day\n",
    "checkin_counts = checkin_day.value_counts()\n",
    "\n",
    "# Sort the days by frequency in descending order\n",
    "checkin_counts = checkin_counts.sort_values(ascending=False)\n",
    "\n",
    "# Calculate the percentages\n",
    "checkin_percentages = (checkin_counts / len(hotel_clean) * 100).round(2)\n",
    "\n",
    "# Create a bar plot\n",
    "plt.figure(figsize=(12, 6))\n",
    "ax = checkin_counts.plot(kind='bar')\n",
    "plt.xlabel('Day of the Week')\n",
    "plt.ylabel('Frequency')\n",
    "plt.title('Frequency of the Day check in in the Dataset')\n",
    "plt.xticks(rotation=0)\n",
    "\n",
    "\n",
    "# Adding labels to the top of the bars with frequencies and percentages\n",
    "for i, (v, p) in enumerate(zip(checkin_counts, checkin_percentages)):\n",
    "    ax.text(i, v, f'{p}%', ha='center', va='bottom')\n",
    "\n",
    "\n",
    "# Show the plot\n",
    "plt.show()"
   ]
  },
  {
   "cell_type": "markdown",
   "id": "5058793b-9717-4487-929a-7e340dd1c35f",
   "metadata": {},
   "source": [
    "Sunday is the most popular day of the week for customers to make clicks/bookings for their check-in days."
   ]
  },
  {
   "cell_type": "markdown",
   "id": "8b1e7bd7-9d62-4512-8112-1c20c738b9ea",
   "metadata": {},
   "source": [
    "#### Making an analysis in columns `srch_adults_cnt`, `srch_children_cnt` and `srch_rm_cnt` <a class= 'anchor' id = '12'></a> "
   ]
  },
  {
   "cell_type": "code",
   "execution_count": null,
   "id": "37c66de8-1045-4f4c-ae65-1d4c4cd18537",
   "metadata": {},
   "outputs": [],
   "source": [
    "hotel_clean['srch_adults_cnt']"
   ]
  },
  {
   "cell_type": "code",
   "execution_count": null,
   "id": "9ba54a84-c3f0-4c3b-9c08-378b74b838b7",
   "metadata": {},
   "outputs": [],
   "source": [
    "sorted(hotel_clean['srch_adults_cnt'].unique())"
   ]
  },
  {
   "cell_type": "code",
   "execution_count": null,
   "id": "d569f8cb-e7a6-4a55-bdc7-35feec1446ff",
   "metadata": {},
   "outputs": [],
   "source": [
    "(hotel_clean['srch_adults_cnt'] == 0).sum()\n"
   ]
  },
  {
   "cell_type": "code",
   "execution_count": null,
   "id": "5fff86a8-fc46-4bf4-b74b-e5d6a5a4ba3f",
   "metadata": {},
   "outputs": [],
   "source": [
    "# Then, count the occurrences of adults\n",
    "adults_counts = (hotel_clean['srch_adults_cnt'].value_counts()).sort_values(ascending=False)\n",
    "\n",
    "# Calculate the percentages\n",
    "adults_percentages = (adults_counts / len(hotel_clean) * 100).round(2)\n",
    "\n",
    "# Create a bar plot\n",
    "plt.figure(figsize=(12, 6))\n",
    "ax = adults_counts.plot(kind='bar')\n",
    "plt.xlabel('Number of Adults')\n",
    "plt.ylabel('Frequency')\n",
    "plt.title('Frequency of Adults in the Dataset')\n",
    "plt.xticks(rotation=0)\n",
    "\n",
    "# Adding labels to the bars with frequencies and percentages\n",
    "for i, (v, p) in enumerate(zip(adults_counts, adults_percentages)):\n",
    "    ax.text(i, v, f'{p}%', ha='center', va='bottom')\n",
    "\n",
    "# Show the plot\n",
    "plt.show()"
   ]
  },
  {
   "cell_type": "markdown",
   "id": "46781959-2d8e-4175-9c0b-d5b14ad36502",
   "metadata": {},
   "source": [
    "The majority of clicks and bookings are made for 2 adults. Furthermore, bookings for 5 or more adults are relatively rare. This suggests that the most common scenario involves couples booking hotels. Now, let's shift our focus to the presence of children."
   ]
  },
  {
   "cell_type": "code",
   "execution_count": null,
   "id": "249968b9-40e3-4a55-a914-bef3c2899047",
   "metadata": {},
   "outputs": [],
   "source": [
    "# Count the occurrences of each unique value in 'srch_adults_cnt'\n",
    "adults_counts = hotel_clean['srch_adults_cnt'].value_counts().sort_index()\n",
    "\n",
    "# Count the occurrences of each unique value in 'srch_children_cnt'\n",
    "children_counts = hotel_clean['srch_children_cnt'].value_counts().sort_index()\n",
    "\n",
    "# Create a bar plot\n",
    "plt.figure(figsize=(10, 6))\n",
    "width = 0.35\n",
    "x = range(len(adults_counts))\n",
    "\n",
    "plt.bar(x, adults_counts, width, label='Adults Count')\n",
    "plt.bar([i + width for i in x], children_counts, width, label='Children Count')\n",
    "\n",
    "# Customize the plot with labels and titles\n",
    "plt.xlabel('Number of Guests')\n",
    "plt.ylabel('Frequency')\n",
    "plt.title('Frequency of Adults and Children Counts in Searches')\n",
    "plt.xticks([i + width/2 for i in x], adults_counts.index)\n",
    "\n",
    "# Show the plot\n",
    "plt.legend()\n",
    "plt.show()\n"
   ]
  },
  {
   "cell_type": "markdown",
   "id": "6f2c7b8b-7656-4e63-9f08-65dd912b0a8c",
   "metadata": {},
   "source": [
    "The frequency decreases as the number of children increases."
   ]
  },
  {
   "cell_type": "code",
   "execution_count": null,
   "id": "8564444e-8254-4552-80ee-ce77dcf91e00",
   "metadata": {},
   "outputs": [],
   "source": [
    "sorted(hotel_clean['srch_children_cnt'].unique())"
   ]
  },
  {
   "cell_type": "code",
   "execution_count": null,
   "id": "1cd86b27-3610-4b7d-8831-6e8d96e68d3d",
   "metadata": {},
   "outputs": [],
   "source": [
    "# Count occurrences of 0 in the column\n",
    "count_of_zeros = (hotel_clean['srch_children_cnt'] == 0).sum()\n",
    "\n",
    "# Count occurrences of non-zero values in the column\n",
    "count_of_non_zeros = (hotel_clean['srch_children_cnt'] != 0).sum()\n",
    "\n",
    "# Data for the pie chart\n",
    "labels = ['No Children', 'Have Children']\n",
    "sizes = [count_of_zeros, count_of_non_zeros]\n",
    "colors = ['#ff9999', '#66b3ff']  # Custom colors\n",
    "\n",
    "# Explode the 'Have Children' slice\n",
    "explode = (0, 0.1)\n",
    "\n",
    "# Create a pie chart\n",
    "plt.figure(figsize=(8, 6))\n",
    "plt.pie(sizes, explode=explode, labels=labels, colors=colors, autopct='%1.1f%%', startangle=140)\n",
    "plt.axis('equal')  # Equal aspect ratio ensures that pie is drawn as a circle\n",
    "\n",
    "plt.title('Proportion of Searches with or without Children')\n",
    "plt.show()"
   ]
  },
  {
   "cell_type": "markdown",
   "id": "65cf4971-234b-447d-ab3c-8b30cbb89d3b",
   "metadata": {},
   "source": [
    "In the following graphic, we observe that a significant portion of searches on the website doesn't include children."
   ]
  },
  {
   "cell_type": "code",
   "execution_count": null,
   "id": "d0400219-d673-4318-a75c-b80c492e35dd",
   "metadata": {},
   "outputs": [],
   "source": [
    "hotel_clean['srch_rm_cnt'].unique()"
   ]
  },
  {
   "cell_type": "code",
   "execution_count": null,
   "id": "617495ff-7a97-4da2-b8d1-e794193c6e50",
   "metadata": {},
   "outputs": [],
   "source": [
    "# Then, count the occurrences of each day\n",
    "room_counts = (hotel_clean['srch_rm_cnt'].value_counts()).sort_values(ascending=False)\n",
    "\n",
    "# Calculate the percentages\n",
    "room_percentages = (room_counts / len(hotel_clean) * 100).round(3)\n",
    "\n",
    "# Create a bar plot\n",
    "plt.figure(figsize=(12, 6))\n",
    "ax = room_counts.plot(kind='bar')\n",
    "plt.xlabel('Number of Rooms')\n",
    "plt.ylabel('Frequency')\n",
    "plt.title('Frequency of Rooms in the Dataset')\n",
    "plt.xticks(rotation=0)\n",
    "\n",
    "# Adding labels to the bars with frequencies and percentages\n",
    "for i, (v, p) in enumerate(zip(room_counts, room_percentages)):\n",
    "    ax.text(i, v, f'{p}%', ha='center', va='bottom')\n",
    "\n",
    "# Show the plot\n",
    "plt.show()"
   ]
  },
  {
   "cell_type": "markdown",
   "id": "4f42d220-517e-4bc0-ac60-f8e06334dcdb",
   "metadata": {},
   "source": [
    "Given that a substantial portion of clicks/bookings is for couples (two adults), it's logical to observe that most searches correspond to a single room. The prevalence of single-room bookings begins to diminish as the number of rooms requested increases."
   ]
  },
  {
   "cell_type": "markdown",
   "id": "66d2575a-2ea5-4981-9c29-d7eb68954c11",
   "metadata": {},
   "source": [
    "#### Making an analysis in columns `srch_destination_id` and `srch_destination_type_id` <a class= 'anchor' id = '13'></a> "
   ]
  },
  {
   "cell_type": "code",
   "execution_count": null,
   "id": "a622109a-df83-42db-9e51-d43c3a252489",
   "metadata": {},
   "outputs": [],
   "source": [
    "hotel_clean['srch_destination_id'].nunique()"
   ]
  },
  {
   "cell_type": "code",
   "execution_count": null,
   "id": "56898a11-b280-4176-a9f2-77d0e0254280",
   "metadata": {},
   "outputs": [],
   "source": [
    "# Counting \n",
    "destination_counts = (hotel_clean['srch_destination_id'].value_counts()).sort_values(ascending = False)\n",
    "\n",
    "# Calculate the percentages\n",
    "destination_percentages = (destination_counts / len(hotel_clean) * 100).round(2)\n",
    "\n",
    "# Select the top 10 records\n",
    "top_10_destination_counts = destination_counts.head(10)\n",
    "top_10_percentages = destination_percentages.head(10)\n",
    "\n",
    "# Create a bar plot\n",
    "plt.figure(figsize=(12, 6))\n",
    "ax = top_10_destination_counts.plot(kind='bar')\n",
    "plt.xlabel('Destinations')\n",
    "plt.ylabel('Frequency')\n",
    "plt.title('Top 10 Destinations in the Dataset')\n",
    "plt.xticks(rotation=0)\n",
    "\n",
    "# Adding labels to the bars with frequencies and percentages\n",
    "for i, (v, p) in enumerate(zip(top_10_destination_counts, top_10_percentages)):\n",
    "    ax.text(i, v, f'{p}%', ha='center', va='bottom')\n",
    "\n",
    "# Show the plot\n",
    "plt.show()\n"
   ]
  },
  {
   "cell_type": "markdown",
   "id": "fadf85d4-cbce-4d68-b9f0-f98249c9ad90",
   "metadata": {},
   "source": [
    "This dataset encompasses 26,025 destinations, and the graphic highlights the top 10 most frequently searched destinations on the website. Despite the multitude of destination options, the top 1 choics account for only 4.26% of the total search frequency."
   ]
  },
  {
   "cell_type": "code",
   "execution_count": null,
   "id": "e8f60b99-3bcd-42c8-a004-99904cddd008",
   "metadata": {},
   "outputs": [],
   "source": [
    "hotel_clean['srch_destination_type_id'].unique()"
   ]
  },
  {
   "cell_type": "code",
   "execution_count": null,
   "id": "e0a1cca1-23ad-4974-b28e-3b05af570201",
   "metadata": {},
   "outputs": [],
   "source": [
    "destination_type_counts = (hotel_clean['srch_destination_type_id'].value_counts()).sort_values(ascending=False)\n",
    "\n",
    "# Calculate the percentages\n",
    "destination_type_percentages = (destination_type_counts / len(hotel_clean) * 100).round(5)\n",
    "\n",
    "# Create a bar plot\n",
    "plt.figure(figsize=(12, 6))\n",
    "ax = destination_type_counts.plot(kind='bar')\n",
    "plt.xlabel('Type of destination')\n",
    "plt.ylabel('Frequency')\n",
    "plt.title('Frequency of type of destination')\n",
    "plt.xticks(rotation=0)\n",
    "\n",
    "# Adding labels to the bars with frequencies and percentages\n",
    "for i, (v, p) in enumerate(zip(destination_type_counts, destination_type_percentages)):\n",
    "    ax.text(i, v, f'{p}%', ha='center', va='bottom')\n",
    "\n",
    "# Show the plot\n",
    "plt.show()"
   ]
  },
  {
   "cell_type": "markdown",
   "id": "c5751b06-76ef-4a28-ab5a-48514dc63ff1",
   "metadata": {},
   "source": [
    "This graphic illustrates that the majority of destinations fall under type 1, while types 7 and 9 represent only a small fraction of the total destinations."
   ]
  },
  {
   "cell_type": "markdown",
   "id": "e1a5cb8c-ac01-410b-98d7-48735ac4490a",
   "metadata": {},
   "source": [
    "#### Making an analysis in column `is_booking` <a class= 'anchor' id = '14'></a> "
   ]
  },
  {
   "cell_type": "code",
   "execution_count": null,
   "id": "2f4d961b-3e60-4d1f-8fd3-64305c6b5ecf",
   "metadata": {},
   "outputs": [],
   "source": [
    "# Count occurrences of 0 in the column\n",
    "count_click = (hotel_clean['is_booking'] == 0).sum()\n",
    "\n",
    "# Count occurrences of 1 in the column\n",
    "count_booking = (hotel_clean['is_booking'] == 1).sum()\n",
    "\n",
    "# Calculate the percentages\n",
    "total = count_click + count_booking\n",
    "percentage_click = (count_click / total) * 100\n",
    "percentage_booking = (count_booking / total) * 100\n",
    "\n",
    "# Create a bar plot\n",
    "plt.figure(figsize=(8, 6))\n",
    "plt.bar(['Booking', 'Click'], [count_booking, count_click])\n",
    "plt.xlabel('Interaction in the website')\n",
    "plt.ylabel('Count')\n",
    "plt.title('Number of booking and clicking in the website')\n",
    "\n",
    "# Show the percentages on top of the bars\n",
    "plt.text(0, count_booking, f'{percentage_booking:.2f}%', ha='center', va='bottom')\n",
    "plt.text(1, count_click, f'{percentage_click:.2f}%', ha='center', va='bottom')\n",
    "\n",
    "plt.show()"
   ]
  },
  {
   "cell_type": "markdown",
   "id": "4841018a-2ffb-47ee-ab00-3733eff42dcd",
   "metadata": {},
   "source": [
    "Observing the data, it's evident that a substantial majority, amounting to 91.29%, of interactions on the website are merely clicks, whereas a more modest 8.71% represent actual bookings."
   ]
  },
  {
   "cell_type": "markdown",
   "id": "d5a0095a-0453-4148-8d77-c6e27b036c46",
   "metadata": {},
   "source": [
    "#### Making an analysis in column `cnt` <a class= 'anchor' id = '15'></a> "
   ]
  },
  {
   "cell_type": "code",
   "execution_count": null,
   "id": "495ddda9-65a0-43df-9dfa-36d1bcf91ec4",
   "metadata": {},
   "outputs": [],
   "source": [
    "hotel_clean['cnt'].unique()"
   ]
  },
  {
   "cell_type": "code",
   "execution_count": null,
   "id": "e699e8ea-77e6-44f7-8d36-ab64c51594cf",
   "metadata": {},
   "outputs": [],
   "source": [
    "# Count the occurrences of each \n",
    "cnt_counts = (hotel_clean['cnt'].value_counts()).sort_values(ascending=False)\n",
    "\n",
    "# Calculate the percentages\n",
    "cnt_percentages = (cnt_counts / len(hotel_clean) * 100).round(2)\n",
    "\n",
    "# Select the top 10 records\n",
    "top_10_cnt_counts = cnt_counts.head(10)\n",
    "top_10_percentages = cnt_percentages.head(10)\n",
    "\n",
    "# Create a bar plot\n",
    "plt.figure(figsize=(12, 6))\n",
    "ax = top_10_cnt_counts.plot(kind='bar')\n",
    "plt.xlabel('Number of similar events for the same user session')\n",
    "plt.ylabel('Frequency')\n",
    "plt.title('Frequency of similar events')\n",
    "plt.xticks(rotation=0)\n",
    "\n",
    "# Adding labels to the bars with frequencies and percentages\n",
    "for i, (v, p) in enumerate(zip(top_10_cnt_counts, top_10_percentages)):\n",
    "    ax.text(i, v, f'{p}%', ha='center', va='bottom')\n",
    "\n",
    "# Show the plot\n",
    "plt.show()"
   ]
  },
  {
   "cell_type": "markdown",
   "id": "c7961b3f-f618-4788-a73f-c70f377bff15",
   "metadata": {},
   "source": [
    "The graph displays the top 10 similar events within the context of the same user session. It's evident that the percentage decreases as the number of similar interactions increases. Specifically, only 15.59% of events occur twice, while those occurring more than six times represent less than 1% of the total."
   ]
  },
  {
   "cell_type": "markdown",
   "id": "dc05f9e7-b3ea-4fc3-b536-ca93085cb2b6",
   "metadata": {},
   "source": [
    "#### Making an analysis in columns `hotel_continent`, `hotel_country` and `hotel_market` <a class= 'anchor' id = '16'></a> "
   ]
  },
  {
   "cell_type": "code",
   "execution_count": null,
   "id": "b71ce324-992c-4dd9-bb7b-00cee9d2790b",
   "metadata": {},
   "outputs": [],
   "source": [
    "hotel_clean['hotel_continent'].unique()"
   ]
  },
  {
   "cell_type": "code",
   "execution_count": null,
   "id": "170e2c7a-9bc2-478f-b084-c6e4cad6c5c7",
   "metadata": {},
   "outputs": [],
   "source": [
    "hotel_clean['hotel_country'].unique()"
   ]
  },
  {
   "cell_type": "code",
   "execution_count": null,
   "id": "91b31de0-41ea-4bc7-868b-8494368a6e36",
   "metadata": {},
   "outputs": [],
   "source": [
    "# Group the data by 'hotel_continent' and 'hotel_country' and count the occurrences\n",
    "grouped_data = hotel_clean.groupby(['hotel_continent', 'hotel_country']).size().unstack(fill_value=0)\n",
    "\n",
    "# Create a stacked bar plot\n",
    "grouped_data.plot(kind='bar', stacked=True, figsize=(10, 6))\n",
    "\n",
    "# Customize the plot with labels and titles\n",
    "plt.xlabel('Hotel Continent')\n",
    "plt.ylabel('Distribution')\n",
    "plt.title('Distribution of Hotel Country by Continent')\n",
    "\n",
    "# Show the plot\n",
    "plt.legend(title='Hotel Country', loc='upper right')\n",
    "plt.show()"
   ]
  },
  {
   "cell_type": "code",
   "execution_count": null,
   "id": "0b4d915c-c8c6-4e46-9655-f932d4888465",
   "metadata": {},
   "outputs": [],
   "source": [
    "# Group the data by 'hotel_continent' and 'hotel_country' and count the occurrences\n",
    "grouped_data = hotel_clean.groupby(['hotel_continent', 'hotel_country']).size().unstack(fill_value=0)\n",
    "\n",
    "# Calculate the total count for each 'posa_continent'\n",
    "total_counts = grouped_data.sum(axis=1)\n",
    "\n",
    "# Calculate the percentage for each 'site_name'\n",
    "percentage_data = grouped_data.divide(total_counts, axis=0) * 100\n",
    "\n",
    "# Create a stacked bar plot with percentages\n",
    "percentage_data.plot(kind='bar', stacked=True, figsize=(10, 6))\n",
    "\n",
    "# Customize the plot with labels and titles\n",
    "plt.xlabel('Hotel Continent')\n",
    "plt.ylabel('Percentage')\n",
    "plt.title('Percentage of Hotel Country by Continent')\n",
    "\n",
    "# Show the plot\n",
    "plt.legend(title='Hotel Country', loc='upper right')\n",
    "plt.show()"
   ]
  },
  {
   "cell_type": "code",
   "execution_count": null,
   "id": "15facb78-459e-4b3c-bf77-b90619026ef6",
   "metadata": {},
   "outputs": [],
   "source": [
    "# Then, count the occurrences of each \n",
    "continents_counts = (hotel_clean['hotel_continent'].value_counts()).sort_values(ascending=False)\n",
    "\n",
    "# Calculate the percentages\n",
    "continents_percentages = (continents_counts / len(hotel_clean) * 100).round(3)\n",
    "\n",
    "# Create a bar plot\n",
    "plt.figure(figsize=(12, 6))\n",
    "ax = continents_counts.plot(kind='bar')\n",
    "plt.xlabel('Hotel Continents')\n",
    "plt.ylabel('Frequency')\n",
    "plt.title('Frequency of Hotel Continents')\n",
    "plt.xticks(rotation=0)\n",
    "\n",
    "# Adding labels to the bars with frequencies and percentages\n",
    "for i, (v, p) in enumerate(zip(continents_counts, continents_percentages)):\n",
    "    ax.text(i, v, f'{p}%', ha='center', va='bottom')\n",
    "\n",
    "# Show the plot\n",
    "plt.show()"
   ]
  },
  {
   "cell_type": "code",
   "execution_count": null,
   "id": "9ff71f58-ea26-4d86-830a-c49ecdd9068e",
   "metadata": {},
   "outputs": [],
   "source": [
    "filtered_data = hotel_clean[hotel_clean['hotel_continent'] == 2]\n",
    "\n",
    "# Print the filtered data\n",
    "print(filtered_data['hotel_country'].unique())"
   ]
  },
  {
   "cell_type": "code",
   "execution_count": null,
   "id": "a19924f6-edea-4345-a82a-f580f24e9c7b",
   "metadata": {},
   "outputs": [],
   "source": [
    "filtered_data = hotel_clean[hotel_clean['hotel_continent'] == 6]\n",
    "\n",
    "# Print the filtered data\n",
    "print(filtered_data['hotel_country'].unique())"
   ]
  },
  {
   "cell_type": "markdown",
   "id": "5cff6b14-b1f0-40c1-9f5b-4363defb1909",
   "metadata": {},
   "source": [
    "The analysis reveals that the majority of website interactions are focused on continent 2, while continents 0, 5, and 1 experience considerably fewer interactions. Furthermore, within continent 2, customers concentrate on two specific countries, namely 50 and 198. With the exception of continents 1 and 2, the remaining continents exhibit a greater diversity of countries."
   ]
  },
  {
   "cell_type": "code",
   "execution_count": null,
   "id": "4841713c-8186-4efa-8847-63211cd6a195",
   "metadata": {},
   "outputs": [],
   "source": [
    "hotel_clean['hotel_market'].nunique()"
   ]
  },
  {
   "cell_type": "markdown",
   "id": "0f6f8c6f-7274-4f22-8086-ae57e4315367",
   "metadata": {},
   "source": [
    "#### making an analysis in column `hotel_cluster` <a class= 'anchor' id = '17'></a> "
   ]
  },
  {
   "cell_type": "code",
   "execution_count": null,
   "id": "54f9afed-e086-4645-a2a5-b100b012c817",
   "metadata": {},
   "outputs": [],
   "source": [
    "hotel_clean['hotel_cluster'].nunique()"
   ]
  },
  {
   "cell_type": "code",
   "execution_count": null,
   "id": "024ab78f-1a87-4308-8a3a-cf0386520386",
   "metadata": {},
   "outputs": [],
   "source": [
    "# Then, count the occurrences of each \n",
    "hotel_cluster_counts = (hotel_clean['hotel_cluster'].value_counts()).sort_values(ascending=False)\n",
    "\n",
    "# Calculate the percentages\n",
    "hotel_cluster_percentages = (hotel_cluster_counts / len(hotel_clean) * 100).round(2)\n",
    "\n",
    "# Select the top 20 records\n",
    "top_20_counts = hotel_cluster_counts.head(20)\n",
    "top_20_percentages = hotel_cluster_percentages.head(20)\n",
    "\n",
    "# Create a bar plot\n",
    "plt.figure(figsize=(12, 6))\n",
    "ax = top_20_counts.plot(kind='bar')\n",
    "plt.xlabel('Hotel Cluster')\n",
    "plt.ylabel('Frequency')\n",
    "plt.title('Frequency of Hotel Cluster')\n",
    "plt.xticks(rotation=0)\n",
    "\n",
    "# Adding labels to the bars with frequencies and percentages\n",
    "for i, (v, p) in enumerate(zip(top_20_counts, top_20_percentages)):\n",
    "    ax.text(i, v, f'{p}%', ha='center', va='bottom')\n",
    "\n",
    "# Show the plot\n",
    "plt.show()"
   ]
  },
  {
   "cell_type": "code",
   "execution_count": null,
   "id": "c4b3b811-0f24-47ae-b0bc-e529c3669b5e",
   "metadata": {
    "tags": []
   },
   "outputs": [],
   "source": [
    "# Then, count the occurrences of each \n",
    "hotel_cluster_counts = (hotel_clean['hotel_cluster'].value_counts()).sort_values(ascending=False)\n",
    "\n",
    "# Calculate the percentages\n",
    "hotel_cluster_percentages = (hotel_cluster_counts / len(hotel_clean) * 100).round(2)\n",
    "\n",
    "# Select the top 20 records\n",
    "top_20_counts = hotel_cluster_counts.tail(20)\n",
    "top_20_percentages = hotel_cluster_percentages.tail(20)\n",
    "\n",
    "# Create a bar plot\n",
    "plt.figure(figsize=(12, 6))\n",
    "ax = top_20_counts.plot(kind='bar')\n",
    "plt.xlabel('Hotel Cluster')\n",
    "plt.ylabel('Frequency')\n",
    "plt.title('Frequency of Hotel Cluster')\n",
    "plt.xticks(rotation=0)\n",
    "\n",
    "# Adding labels to the bars with frequencies and percentages\n",
    "for i, (v, p) in enumerate(zip(top_20_counts, top_20_percentages)):\n",
    "    ax.text(i, v, f'{p}%', ha='center', va='bottom')\n",
    "\n",
    "# Show the plot\n",
    "plt.show()"
   ]
  },
  {
   "cell_type": "code",
   "execution_count": null,
   "id": "3d58d610-1292-4396-bba4-3f27778a9dc7",
   "metadata": {
    "tags": []
   },
   "outputs": [],
   "source": [
    "# Then, count the occurrences of each \n",
    "hotel_cluster_counts = (hotel_clean['hotel_cluster'].value_counts()).sort_values(ascending=False)\n",
    "\n",
    "# Calculate the percentages\n",
    "hotel_cluster_percentages = (hotel_cluster_counts / len(hotel_clean) * 100).round(2)\n",
    "\n",
    "# Create a bar plot\n",
    "plt.figure(figsize=(12, 6))\n",
    "ax = hotel_cluster_counts.plot(kind='bar')\n",
    "plt.xlabel('Hotel Cluster')\n",
    "# Remove X-axis tick labels\n",
    "plt.gca().set_xticklabels([])\n",
    "plt.ylabel('Frequency')\n",
    "plt.title('Frequency of Hotel Cluster')\n",
    "plt.xticks(rotation=0)\n",
    "\n",
    "# Show the plot\n",
    "plt.show()"
   ]
  },
  {
   "cell_type": "markdown",
   "id": "a7b0cd70-f0a3-43a7-8ab8-abedbeefe324",
   "metadata": {},
   "source": [
    "The `hotel_cluster` column serves as the target variable, which is crucial for predicting the hotel cluster associated with a user event. This prediction is based on various attributes linked to the user event and aims to identify one of the 100 potential hotel clusters. The third grafic is showing the distribuition overview."
   ]
  },
  {
   "cell_type": "markdown",
   "id": "d99b3928-fc95-42a7-83ef-dcaa8bddf849",
   "metadata": {},
   "source": [
    "#### Some graphics <a class= 'anchor' id = '18'></a> "
   ]
  },
  {
   "cell_type": "code",
   "execution_count": null,
   "id": "f1c52505-6917-4e50-893b-605f9add9746",
   "metadata": {},
   "outputs": [],
   "source": [
    "plt.subplots(5, 5, figsize=(20, 20))\n",
    "\n",
    "count = 1\n",
    "\n",
    "for col in hotel_clean.columns:\n",
    "    plt.subplot(5, 5, count)\n",
    "    plt.hist(hotel_clean[col])\n",
    "    plt.title(col)\n",
    "    \n",
    "    count += 1\n",
    "    \n",
    "plt.tight_layout()\n",
    "plt.show()"
   ]
  },
  {
   "cell_type": "code",
   "execution_count": null,
   "id": "deee0187-7b2c-4ee7-8935-e6d13359ada9",
   "metadata": {},
   "outputs": [],
   "source": [
    "# find the correlation between the variables\n",
    "corr = hotel_clean.corr()\n",
    "\n",
    "# plot the correlation matrix using a heatmap\n",
    "plt.figure(figsize=(20,10))\n",
    "matrix = np.triu(hotel_clean.corr())\n",
    "sns.heatmap(corr, annot=True, mask=matrix, cmap='coolwarm')\n",
    "plt.show()"
   ]
  },
  {
   "cell_type": "markdown",
   "id": "a5b49b64-56d4-4a1f-b731-327eb759a194",
   "metadata": {},
   "source": [
    "The heatmap presents a clear depiction of the dataset's correlations. Notably, there exists a strong positive correlation between the variables `srch_ci` and `srch_co` indicating that as one date shifts, the other follows suit. Furthermore, both `srch_ci` and `srch_co` exhibit a high correlation with `date_time`, which signifies the temporal aspect of the customers' interactions.\n",
    "\n",
    "Another notable positive correlation emerges between `srch_rm_cnt` and `srch_adults_cnt`, suggesting that the number of adults in a party has a direct influence on the required room count, which is a logical relationship.\n",
    "\n",
    "It's worth mentioning that the majority of the heatmap displays negative correlations. This phenomenon likely results from the categorical nature of the variables represented as numbers. These numerical values, which should ideally be treated as labels or categories, inadvertently introduce negative correlations when analyzed in a numerical context."
   ]
  },
  {
   "cell_type": "code",
   "execution_count": null,
   "id": "61cef932-55ac-4f8d-8d23-edd2ce498032",
   "metadata": {
    "tags": []
   },
   "outputs": [],
   "source": [
    "# Save the data to a CSV file\n",
    "hotel_clean.to_csv('hotel_clean.csv', index=False)"
   ]
  },
  {
   "cell_type": "code",
   "execution_count": null,
   "id": "bd6b238f-d247-486b-af01-d15731d565e0",
   "metadata": {},
   "outputs": [],
   "source": []
  }
 ],
 "metadata": {
  "kernelspec": {
   "display_name": "basicpythonkernel",
   "language": "python",
   "name": "basicpythonkernel"
  },
  "language_info": {
   "codemirror_mode": {
    "name": "ipython",
    "version": 3
   },
   "file_extension": ".py",
   "mimetype": "text/x-python",
   "name": "python",
   "nbconvert_exporter": "python",
   "pygments_lexer": "ipython3",
   "version": "3.9.18"
  }
 },
 "nbformat": 4,
 "nbformat_minor": 5
}
