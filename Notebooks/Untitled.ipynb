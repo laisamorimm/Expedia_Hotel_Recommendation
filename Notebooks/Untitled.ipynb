{
 "cells": [
  {
   "cell_type": "code",
   "execution_count": null,
   "id": "3dd49748-0b54-4910-ab8a-0f6c7a04825e",
   "metadata": {},
   "outputs": [],
   "source": [
    "from sklearn.tree import DecisionTreeClassifier\n",
    "# range of depth to test\n",
    "depth = range(1,52,10)\n",
    "\n",
    "# Create list for train and test accuracy\n",
    "train_accuracy = []\n",
    "validation_accuracy = []\n",
    "\n",
    "# Loop through n_components\n",
    "for d in depth:\n",
    "\n",
    "    # Instantiate and fit Decision Tree\n",
    "    tree = DecisionTreeClassifier(max_depth=d, random_state=42)\n",
    "    tree.fit(X_train, y_train)\n",
    "\n",
    "    # Evaluate the model\n",
    "    train_accuracy.append(tree.score(X_train, y_train))\n",
    "    validation_accuracy.append(tree.score(X_test, y_test))\n",
    "\n",
    "    # print done statement for each depth\n",
    "    print(f'Done with depth {d}.')"
   ]
  },
  {
   "cell_type": "code",
   "execution_count": null,
   "id": "a9d92e09-98b2-410c-8732-752f04575582",
   "metadata": {},
   "outputs": [],
   "source": [
    "# Train and Validation Accuracy vs. Depth\n",
    "plt.plot(depth, train_accuracy, label='Train Accuracy', color='red')\n",
    "plt.plot(depth, validation_accuracy, label='Validation Accuracy', color='blue')\n",
    "plt.title('Accuracy vs. Depth')\n",
    "plt.xlabel('Depth')\n",
    "plt.ylabel('Accuracy (%)')\n",
    "plt.legend()\n",
    "plt.show()\n",
    "\n",
    "# Find the index of the maximum validation accuracy\n",
    "best_depth_index = validation_accuracy.index(max(validation_accuracy))\n",
    "\n",
    "# Extract the best depth\n",
    "best_depth = depth[best_depth_index]\n",
    "\n",
    "print(\"Best Depth:\", best_depth)"
   ]
  },
  {
   "cell_type": "code",
   "execution_count": null,
   "id": "e5256ece-69c4-4335-a281-635536057917",
   "metadata": {},
   "outputs": [],
   "source": [
    "from sklearn.tree import DecisionTreeClassifier\n",
    "from sklearn.model_selection import GridSearchCV\n",
    "import matplotlib.pyplot as plt\n",
    "import seaborn as sns\n",
    "import pandas as pd\n",
    "\n",
    "\n",
    "# Create a decision tree classifier\n",
    "dtree = DecisionTreeClassifier()\n",
    "\n",
    "# Define the parameter grid with different max_depth values to test\n",
    "param_grid = {'max_depth': [10, 20, 30, 50, 100]}\n",
    "\n",
    "# Use GridSearchCV to search for the best max_depth\n",
    "grid_search = GridSearchCV(dtree, param_grid, cv=5, scoring='accuracy')\n",
    "grid_search.fit(X_train, y_train)\n",
    "\n",
    "# Get the best max_depth value\n",
    "best_max_depth = grid_search.best_params_['max_depth']\n",
    "\n",
    "# Visualize the grid search results\n",
    "results = pd.DataFrame(grid_search.cv_results_)\n",
    "\n",
    "# Plotting the performance for different max_depth values\n",
    "plt.figure(figsize=(10, 6))\n",
    "sns.lineplot(x='param_max_depth', y='mean_test_score', data=results, marker='o')\n",
    "\n",
    "# Highlight the best max_depth value\n",
    "plt.scatter(best_max_depth, grid_search.best_score_, color='red', marker='x', s=200, label='Best max_depth')\n",
    "\n",
    "plt.title('Grid Search Results for Decision Tree Max Depth')\n",
    "plt.xlabel('max_depth')\n",
    "plt.ylabel('Mean Test Score (Accuracy)')\n",
    "plt.legend()\n",
    "plt.grid(True)\n",
    "plt.show()\n",
    "\n",
    "print(\"Best max_depth:\", best_max_depth)"
   ]
  }
 ],
 "metadata": {
  "kernelspec": {
   "display_name": "Python 3 (ipykernel)",
   "language": "python",
   "name": "python3"
  },
  "language_info": {
   "codemirror_mode": {
    "name": "ipython",
    "version": 3
   },
   "file_extension": ".py",
   "mimetype": "text/x-python",
   "name": "python",
   "nbconvert_exporter": "python",
   "pygments_lexer": "ipython3",
   "version": "3.11.5"
  }
 },
 "nbformat": 4,
 "nbformat_minor": 5
}
